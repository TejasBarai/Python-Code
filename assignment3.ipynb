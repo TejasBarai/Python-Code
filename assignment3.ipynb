{
 "cells": [
  {
   "cell_type": "code",
   "execution_count": 32,
   "metadata": {},
   "outputs": [
    {
     "data": {
      "text/plain": [
       "{'Ten': 10, 'Twenty': 20, 'Thirty': 30}"
      ]
     },
     "execution_count": 32,
     "metadata": {},
     "output_type": "execute_result"
    }
   ],
   "source": [
    "\"\"\"\" Q 1. Convert two lists into a dictionary\n",
    "Below are the two lists. Write a Python program to convert them into a dictionary in \n",
    "a way that item from list1 is the key and item from list2 is the value\n",
    "Given:\n",
    "keys = ['Ten', 'Twenty', 'Thirty'] \n",
    "values = [10, 20, 30]\n",
    "Expected Output:\n",
    "{'Ten': 10, 'Twenty': 20, 'Thirty': 30}\"\"\"\n",
    "\n",
    "keys = ['Ten', 'Twenty', 'Thirty']\n",
    "values = [10, 20, 30]\n",
    "m = dict(zip(keys, values))\n",
    "m\n"
   ]
  },
  {
   "cell_type": "code",
   "execution_count": 33,
   "metadata": {},
   "outputs": [
    {
     "data": {
      "text/plain": [
       "{'Ten': 10, 'Twenty': 20, 'Thirty': 30, 'Fourty': 40, 'Fifty': 50}"
      ]
     },
     "execution_count": 33,
     "metadata": {},
     "output_type": "execute_result"
    }
   ],
   "source": [
    "\"\"\"Q 2. Merge two Python dictionaries into one\n",
    "Given:\n",
    "dict1 = {'Ten': 10, 'Twenty': 20, 'Thirty': 30} \n",
    "dict2 = {'Thirty': 30, 'Fourty': 40, 'Fifty': 50}\n",
    "Expected Output:\n",
    "{'Ten': 10, 'Twenty': 20, 'Thirty': 30, 'Fourty': 40, 'Fifty': 50\"\"\"\n",
    "\n",
    "dict1 = {'Ten': 10, 'Twenty': 20, 'Thirty': 30}\n",
    "dict2 = {'Thirty': 30, 'Fourty': 40, 'Fifty': 50}\n",
    "dict1.update(dict2)\n",
    "dict1"
   ]
  },
  {
   "cell_type": "code",
   "execution_count": 34,
   "metadata": {},
   "outputs": [
    {
     "name": "stdout",
     "output_type": "stream",
     "text": [
      "80\n"
     ]
    }
   ],
   "source": [
    "\"\"\"Q 3 Print the value of key ‘history’ from the below dict\n",
    "Given:\n",
    "sampleDict = { \n",
    " \"class\": { \n",
    " \"student\": { \n",
    "\"name\": \"rajvamshi\", \n",
    "\"marks\": { \n",
    " \"physics\": 70, \n",
    " \"history\": 80 \n",
    "} \n",
    " } \n",
    " }\n",
    "}\n",
    "Expected Output: 80 \"\"\"\n",
    "\n",
    "\n",
    "\n",
    "sampleDict = { \n",
    " \"class\": { \n",
    " \"student\": { \n",
    "\"name\": \"rajvamshi\", \n",
    "\"marks\": { \n",
    " \"physics\": 70, \n",
    " \"history\": 80 \n",
    "} \n",
    " } \n",
    " }\n",
    "}\n",
    "\n",
    "# Access the value of the key 'history'\n",
    "history_marks = sampleDict[\"class\"][\"student\"][\"marks\"][\"history\"] # optional\n",
    "\n",
    "print(history_marks)\n",
    "\n"
   ]
  },
  {
   "cell_type": "code",
   "execution_count": 35,
   "metadata": {},
   "outputs": [
    {
     "name": "stdout",
     "output_type": "stream",
     "text": [
      "{'Kelly': {'designation': 'Developer', 'salary': 8000}, 'Emma': {'designation': 'Developer', 'salary': 8000}}\n"
     ]
    }
   ],
   "source": [
    "\"\"\"Q 4. Initialize dictionary with default values\n",
    "In Python, we can initialize the keys with the same values.\n",
    "Given:\n",
    "employees = ['Kelly', 'Emma'] \n",
    "defaults = {\"designation\": 'Developer', \"salary\": 8000}\n",
    "Expected Output:\n",
    "{\n",
    "'Kelly': {'designation': 'Developer', 'salary': 8000}, \n",
    "'Emma': {'designation': 'Developer', 'salary': 8000}\n",
    "}\n",
    "\"\"\"\n",
    "\n",
    "\n",
    "employees = ['Kelly', 'Emma'] \n",
    "defaults = {\"designation\": 'Developer', \"salary\": 8000}\n",
    "\n",
    "employee_dict = {employee: defaults.copy() for employee in employees}\n",
    "print(employee_dict)\n"
   ]
  },
  {
   "cell_type": "code",
   "execution_count": 36,
   "metadata": {},
   "outputs": [
    {
     "name": "stdout",
     "output_type": "stream",
     "text": [
      "{'Name': 'Ram', 'Age': 23}\n",
      "{'Name': 'Ram', 'Age': 23, 'City': 'Salem'}\n",
      "{'Name': 'Ram', 'Age': 23, 'City': 'Salem', 'Gender': 'Male'}\n"
     ]
    }
   ],
   "source": [
    "\"\"\" Q 5. Write a Python program to add a key to a dictionary\n",
    "Given:\n",
    "d = {\"Name”: “Ram\", \"Age\":23}\n",
    "Expected Output:\n",
    "{'Name': 'Ram', 'Age': 23} \n",
    "{'Name': 'Ram', 'Age': 23, 'City': 'Salem'} \n",
    "{'Name': 'Ram', 'Age': 23, 'City': 'Salem', 'Gender': 'Male'}\"\"\"\n",
    "\n",
    "d = {\"Name\": \"Ram\", \"Age\": 23}\n",
    "print(d)\n",
    "\n",
    "d[\"City\"] = \"Salem\" #Add Salem\n",
    "print(d)\n",
    "\n",
    "d[\"Gender\"] = \"Male\" #Male\n",
    "print(d)\n",
    "\n"
   ]
  },
  {
   "cell_type": "code",
   "execution_count": 37,
   "metadata": {},
   "outputs": [
    {
     "name": "stdout",
     "output_type": "stream",
     "text": [
      "{'Name': 'Ram', 'Age': 23, 'City': 'Salem', 'Gender': 'Male', 'Mark': 450}\n"
     ]
    }
   ],
   "source": [
    "\"\"\"Q 6. Write a Python program to concatenate following dictionaries to create a \n",
    "new one\n",
    "Given:\n",
    "d1= {\"Name”: “Ram\", \"Age\":23} \n",
    "d2= {\"City\": \"Salem\", \"Gender\": \"Male\"} \n",
    "d3= {\"Mark\":450} \n",
    "d4= {}\n",
    "Expected Output:\n",
    "{'Name': 'Ram', 'Age': 23, 'City': 'Salem', 'Gender': 'Male', 'Mark': 450}\"\"\"\n",
    "\n",
    "\n",
    "d1 = {\"Name\": \"Ram\", \"Age\": 23}\n",
    "d2 = {\"City\": \"Salem\", \"Gender\": \"Male\"}\n",
    "d3 = {\"Mark\": 450}\n",
    "d4 = {}\n",
    "\n",
    "new_dict = {**d1, **d2, **d3, **d4}\n",
    "\n",
    "print(new_dict)\n"
   ]
  },
  {
   "cell_type": "code",
   "execution_count": 38,
   "metadata": {},
   "outputs": [
    {
     "name": "stdout",
     "output_type": "stream",
     "text": [
      "{'Name': 'Ram', 'Age': 23, 'City': 'Salem', 'Gender': 'Male'}\n"
     ]
    }
   ],
   "source": [
    " \"\"\"Q 7. Write a Python script to merge two Python dictionaries\n",
    "Given:\n",
    "d1= {\"Name”: “Ram\", \"Age\":23} \n",
    "d2= {\"City\": \"Salem\", \"Gender\": \"Male\"}\n",
    "Expected Output: {'Name': 'Ram', 'Age': 23, 'City': 'Salem', 'Gender': 'Male' }\"\"\"\n",
    "\n",
    "\n",
    "d1 = {\"Name\": \"Ram\", \"Age\": 23}\n",
    "d2 = {\"City\": \"Salem\", \"Gender\": \"Male\"}\n",
    "d1.update(d2)\n",
    "print(d1)\n"
   ]
  },
  {
   "cell_type": "code",
   "execution_count": 39,
   "metadata": {},
   "outputs": [
    {
     "name": "stdout",
     "output_type": "stream",
     "text": [
      "138\n"
     ]
    }
   ],
   "source": [
    "\"\"\"Q 8. Write a Python program to sum all the items in a dictionary\n",
    "Given: d = {1:23, 2:45, 3: -17, 4:87}\n",
    "Expected Output: 138\"\"\"\n",
    "d = {1: 23, 2: 45, 3: -17, 4: 87}\n",
    "total = sum(d.values())\n",
    "\n",
    "# Print the resulting sum\n",
    "print(total)\n"
   ]
  },
  {
   "cell_type": "code",
   "execution_count": 40,
   "metadata": {},
   "outputs": [
    {
     "name": "stdout",
     "output_type": "stream",
     "text": [
      "Name\n",
      "Age\n",
      "Gender\n",
      "City\n",
      "Mark\n"
     ]
    }
   ],
   "source": [
    " \"\"\"Q 9. Access dictionary key's element by index\n",
    "Given:\n",
    "student = {\"Name\": \"Pooja\", \"Age\":23, \"Gender\": \"Female\", \"City\": \"Salem\",\n",
    "\"Mark\":488}\n",
    "Expected Output:\n",
    "Name\n",
    "Age\n",
    "Gender\n",
    "City\n",
    "Mark\"\"\"\n",
    "\n",
    "student = {\"Name\": \"Pooja\", \"Age\":23, \"Gender\": \"Female\", \"City\": \"Salem\",\n",
    "\"Mark\":488}\n",
    "\n",
    "for key in student.keys():\n",
    "    print(key)"
   ]
  },
  {
   "cell_type": "code",
   "execution_count": 41,
   "metadata": {},
   "outputs": [
    {
     "name": "stdout",
     "output_type": "stream",
     "text": [
      "True\n",
      "False\n",
      "False\n"
     ]
    }
   ],
   "source": [
    "\"\"\"Q 10. Write a Python program to check multiple keys exists in a dictionary\n",
    "Given:\n",
    "student = {'name': 'Ram', 'age': 23, 'city': 'Salem'}\n",
    "Expected Output:\n",
    "True\n",
    "False\n",
    "False\"\"\"\n",
    "\n",
    "student = {'name': 'Ram', 'age': 23, 'city': 'Salem'}\n",
    "keys_to_check = ['name', 'gender', 'marks']\n",
    "for key in keys_to_check:\n",
    "    print(key in student)\n"
   ]
  },
  {
   "cell_type": "code",
   "execution_count": 42,
   "metadata": {},
   "outputs": [
    {
     "name": "stdout",
     "output_type": "stream",
     "text": [
      "{'One': 1, 'Two': 2, 'Three': 3, 'Four': 4, 'Five': 5}\n"
     ]
    }
   ],
   "source": [
    "\"\"\" Q 11. Write a Python program to Convert two lists into a dictionary\n",
    "Given:\n",
    "keys = [\"One\", \"Two\", \"Three\", \"Four\", \"Five\"] \n",
    "values = [1, 2, 3, 4, 5]\n",
    "Expected Output:\n",
    "{'One': 1, 'Two': 2, 'Three': 3, 'Four': 4, 'Five': 5}\"\"\"\n",
    "\n",
    "keys = [\"One\", \"Two\", \"Three\", \"Four\", \"Five\"]\n",
    "values = [1, 2, 3, 4, 5]\n",
    "result_dict = dict(zip(keys, values))\n",
    "print(result_dict)\n"
   ]
  },
  {
   "cell_type": "code",
   "execution_count": 47,
   "metadata": {},
   "outputs": [
    {
     "data": {
      "text/plain": [
       "{'name': 'Kelly', 'salary': 8000}"
      ]
     },
     "execution_count": 47,
     "metadata": {},
     "output_type": "execute_result"
    }
   ],
   "source": [
    "\"\"\"Q 12. Create a dictionary by extracting the keys from a given dictionary\n",
    "Write a Python program to create a new dictionary by extracting the mentioned keys \n",
    "from the below dictionary.\n",
    "Given dictionary:\n",
    "sample_dict = {“name\": \"Kelly\", \"age\": 25, \"salary\": 8000, \"city\": \"New York\"} \n",
    "# Keys to extract \n",
    "keys = [\"name\", \"salary\"]\n",
    "Expected output:\n",
    "{'name': 'Kelly', 'salary': 8000}\"\"\"\n",
    "\n",
    "sample_dict = {\"name\": \"Kelly\", \"age\": 25, \"salary\": 8000, \"city\": \"New York\"} \n",
    "keys = [\"name\", \"salary\"]\n",
    "\n",
    "a = {key: sample_dict[key] for key in keys}\n",
    "a\n"
   ]
  },
  {
   "cell_type": "code",
   "execution_count": 52,
   "metadata": {},
   "outputs": [
    {
     "data": {
      "text/plain": [
       "{'age': 25, 'city': 'New York'}"
      ]
     },
     "execution_count": 52,
     "metadata": {},
     "output_type": "execute_result"
    }
   ],
   "source": [
    "\"\"\"Q13. Delete a list of keys from a dictionary\n",
    "Given: sample_dict = {\"name\": \"Kelly\", \"age\": 25, \"salary\": 8000, \"city\": \"New York\"} \n",
    "# Keys to remove \n",
    "keys = [\"name\", \"salary\"]\"\"\"\n",
    "\n",
    "sample_dict = {\"name\": \"Kelly\", \"age\": 25, \"salary\": 8000, \"city\": \"New York\"} \n",
    "keys = [\"name\", \"salary\"] #a = remove.sample_dict(keys)\n",
    "for key in keys:\n",
    "    sample_dict.pop(key, None)\n",
    "\n",
    "sample_dict"
   ]
  },
  {
   "cell_type": "code",
   "execution_count": 56,
   "metadata": {},
   "outputs": [
    {
     "data": {
      "text/plain": [
       "{'name': 'Kelly', 'age': 25, 'salary': 8000, 'location': 'New York'}"
      ]
     },
     "execution_count": 56,
     "metadata": {},
     "output_type": "execute_result"
    }
   ],
   "source": [
    "\"\"\" Q 14. Create a logic for the Rename key of a dictionary\n",
    "Write a program to rename a key city to a location in the following dictionary.\n",
    "Given: sample_dict = {\"name\": \"Kelly\", \"age\":25, \"salary\": 8000, \"city\": \"New York\"}\n",
    "Expected output: {'name': 'Kelly', 'age': 25, 'salary': 8000, 'location': 'New York'}\"\"\"\n",
    "\n",
    "sample_dict = {\"name\": \"Kelly\", \"age\":25, \"salary\": 8000, \"city\": \"New York\"}\n",
    "sample_dict[\"location\"] = sample_dict.pop(\"city\")\n",
    "sample_dict\n"
   ]
  },
  {
   "cell_type": "code",
   "execution_count": 57,
   "metadata": {},
   "outputs": [
    {
     "name": "stdout",
     "output_type": "stream",
     "text": [
      "Math\n"
     ]
    }
   ],
   "source": [
    "\"\"\"Q 15. Get the key of a minimum value from the following dictionary\n",
    "Given: sample_dict = {'Physics': 82, 'Math': 65, 'history': 75}\n",
    "Expected output: Math\"\"\"\n",
    "\n",
    "sample_dict = {'Physics': 82, 'Math': 65, 'history': 75}\n",
    "min_key = min(sample_dict, key=sample_dict.get)\n",
    "print(min_key)\n"
   ]
  },
  {
   "cell_type": "code",
   "execution_count": 65,
   "metadata": {},
   "outputs": [
    {
     "name": "stdout",
     "output_type": "stream",
     "text": [
      "emp1: {'name': 'Jhon', 'salary': 7500}\n",
      "emp2: {'name': 'Emma', 'salary': 8000}\n",
      "emp3: {'name': 'Brad', 'salary': 8500}\n"
     ]
    }
   ],
   "source": [
    " \"\"\"Q 16. Change value of a key in a nested dictionary\n",
    "Write a Python program to change Brad's salary to 8500 in the following dictionary.\n",
    "Given:\n",
    "sample_dict = { \n",
    "'emp1': {'name': 'Jhon', 'salary': 7500}, \n",
    "'emp2': {'name': 'Emma', 'salary': 8000}, \n",
    "'emp3': {'name': 'Brad', 'salary': 500} \n",
    "}\n",
    "Expected output: \n",
    "{ \n",
    "'emp1': {'name': 'Jhon', 'salary': 7500}, \n",
    "'emp2': {'name': 'Emma', 'salary': 8000}, \n",
    "'emp3': {'name': 'Brad', 'salary': 8500} \n",
    "}\"\"\"\n",
    "\n",
    "\n",
    "sample_dict = { \n",
    "'emp1': {'name': 'Jhon', 'salary': 7500},\n",
    "'emp2': {'name': 'Emma', 'salary': 8000}, \n",
    "'emp3': {'name': 'Brad', 'salary': 500} \n",
    "}\n",
    "sample_dict['emp3']['salary'] = 8500\n",
    "for emp, details in sample_dict.items():\n",
    "    print(f\"{emp}: {details}\")"
   ]
  },
  {
   "cell_type": "code",
   "execution_count": 74,
   "metadata": {},
   "outputs": [
    {
     "name": "stdout",
     "output_type": "stream",
     "text": [
      "emp1: {'name': 'Jhon', 'salary': 7500}\n",
      "emp2: {'name': 'Emma', 'salary': 8000}\n",
      "emp3: {'name': 'Brad', 'salary': 8500}\n"
     ]
    }
   ],
   "source": [
    "\"\"\"  Q 17. Create a program for Adding items to the dictionary\"\"\"\n",
    "sample_dict = { \n",
    "'emp1': {'name': 'Jhon', 'salary': 7500},\n",
    "'emp2': {'name': 'Emma', 'salary': 8000}, \n",
    "'emp3': {'name': 'Brad', 'salary': 500} \n",
    "}\n",
    "sample_dict['emp3']['salary'] = 8500\n",
    "for emp, details in sample_dict.items():\n",
    "    print(f\"{emp}: {details}\")\n",
    "\n"
   ]
  },
  {
   "cell_type": "code",
   "execution_count": 80,
   "metadata": {},
   "outputs": [
    {
     "name": "stdout",
     "output_type": "stream",
     "text": [
      "emp1: {'name': 'Jhon', 'salary': 7500}\n",
      "emp3: {'name': 'Brad', 'salary': 8500}\n"
     ]
    }
   ],
   "source": [
    "\"\"\" Q 18. Create a program for Removing items from the dictionary\"\"\"\n",
    "\n",
    "def remove_item_from_dict(dictionary, key):\n",
    "    if key in dictionary:\n",
    "        del dictionary[key]\n",
    "    else:\n",
    "        print(f\"Key '{key}' not found in the dictionary.\")\n",
    "    return dictionary\n",
    "\n",
    "sample_dict = {\n",
    "    'emp1': {'name': 'Jhon', 'salary': 7500},\n",
    "    'emp2': {'name': 'Emma', 'salary': 8000}, \n",
    "    'emp3': {'name': 'Brad', 'salary': 8500}\n",
    "}\n",
    "\n",
    "# Removing an item\n",
    "key_to_remove = 'emp2'\n",
    "updated_dict = remove_item_from_dict(sample_dict, key_to_remove)\n",
    "\n",
    "for emp, details in updated_dict.items():\n",
    "    print(f\"{emp}: {details}\")\n"
   ]
  },
  {
   "cell_type": "code",
   "execution_count": 82,
   "metadata": {},
   "outputs": [
    {
     "name": "stdout",
     "output_type": "stream",
     "text": [
      "Key with the maximum value: Physics (82)\n",
      "Key with the minimum value: Math (65)\n",
      "Number of items in the dictionary: 3\n",
      "All values greater than 50: True\n",
      "Any value greater than 80: True\n",
      "Type of sample_dict: <class 'dict'>\n"
     ]
    }
   ],
   "source": [
    "\"\"\" Q 19. Write a program for Python Built-in functions with dictionary as given \n",
    "below:\n",
    "I. max() and min()\n",
    "II. len()\n",
    "III. all() and any()\n",
    "IV. type()\"\"\"\n",
    "\n",
    "# Sample dictionary\n",
    "sample_dict = {\n",
    "    'Physics': 82,\n",
    "    'Math': 65,\n",
    "    'History': 75\n",
    "}\n",
    "\n",
    "# I. max() and min()\n",
    "# Find the key with the maximum value\n",
    "max_key = max(sample_dict, key=sample_dict.get)\n",
    "print(f\"Key with the maximum value: {max_key} ({sample_dict[max_key]})\")\n",
    "\n",
    "# Find the key with the minimum value\n",
    "min_key = min(sample_dict, key=sample_dict.get)\n",
    "print(f\"Key with the minimum value: {min_key} ({sample_dict[min_key]})\")\n",
    "\n",
    "# II. len()\n",
    "# Get the number of items in the dictionary\n",
    "dict_length = len(sample_dict)\n",
    "print(f\"Number of items in the dictionary: {dict_length}\")\n",
    "\n",
    "# III. all() and any()\n",
    "# Check if all values in the dictionary are greater than 50\n",
    "all_greater_than_50 = all(value > 50 for value in sample_dict.values())\n",
    "print(f\"All values greater than 50: {all_greater_than_50}\")\n",
    "\n",
    "# Check if any value in the dictionary is greater than 80\n",
    "any_greater_than_80 = any(value > 80 for value in sample_dict.values())\n",
    "print(f\"Any value greater than 80: {any_greater_than_80}\")\n",
    "\n",
    "# IV. type()\n",
    "# Get the type of the dictionary\n",
    "dict_type = type(sample_dict)\n",
    "print(f\"Type of sample_dict: {dict_type}\")\n",
    "\n",
    "\n",
    "\n"
   ]
  },
  {
   "cell_type": "code",
   "execution_count": 83,
   "metadata": {},
   "outputs": [
    {
     "name": "stdout",
     "output_type": "stream",
     "text": [
      "Create a dictionary using dict() constructor: {'a': 10, 'b': 20}\n",
      "Create an empty dictionary: {}\n",
      "Retrieve value using the key 'a': 10\n",
      "List of keys in d1: ['a', 'b', 'c']\n",
      "List of values in d1: [10, 20, 30]\n",
      "List of items in d1: [('a', 10), ('b', 20), ('c', 30)]\n",
      "Number of items in d1: 3\n",
      "Update dictionary by adding a new key: {'a': 10, 'b': 20, 'c': 30, 'd': 40}\n",
      "Add multiple keys to the dictionary: {'a': 10, 'b': 20, 'c': 30, 'd': 40, 'e': 50, 'f': 60}\n",
      "Set the default value if a key does not exist: {'a': 10, 'b': 20, 'c': 30, 'd': 40, 'e': 50, 'f': 60, 'g': 70}\n",
      "Modify the value of key 'b': {'a': 10, 'b': 100, 'c': 30, 'd': 40, 'e': 50, 'f': 60, 'g': 70}\n",
      "Remove the key 'b' from the dictionary: {'a': 10, 'c': 30, 'd': 40, 'e': 50, 'f': 60, 'g': 70}\n",
      "Remove any random item from the dictionary: {'a': 10, 'c': 30, 'd': 40, 'e': 50, 'f': 60}\n",
      "Removes all items from the dictionary: {}\n",
      "Check if key 'a' exists in d1: True\n",
      "Add all items of dictionary d2 into d1: {'a': 10, 'b': 20, 'c': 30, 'd': 40, 'e': 50, 'f': 60}\n",
      "Join two dictionaries: {'a': 10, 'b': 20, 'c': 30, 'd': 40, 'e': 50, 'f': 60}\n",
      "Copy dictionary d1 into d2: {'a': 10, 'b': 20, 'c': 30}\n",
      "Key with the maximum value in d1: c\n",
      "Key with the minimum value in d1: a\n"
     ]
    }
   ],
   "source": [
    "\"\"\"Q 20. Below is the summary of all operations that we learned in this lesson:\n",
    "Assume d1 and d2 are dictionaries with following items.\n",
    "d1 = {'a': 10, 'b': 20, 'c': 30} \n",
    "d2 = {'d': 40, 'e': 50, 'f': 60}\n",
    "Operations Description\n",
    "dict({'a': 10, 'b': 20}) Create a dictionary using a dict() constructor.\n",
    "d2 = {} Create an empty dictionary.\n",
    "d1.get('a') Retrieve value using the key name a.\n",
    "d1.keys() Returns a list of keys present in the dictionary.\n",
    "d1.values() Returns a list with all the values in the dictionary.\n",
    "d1.items() Returns a list of all the items in the dictionary with \n",
    "each key-value pair inside a tuple.\n",
    "len(d1) Returns number of items in a dictionary.\n",
    "d1['d'] = 40 Update dictionary by adding a new key.\n",
    "d1.update({'e': 50, 'f': 60}) Add multiple keys to the dictionary.\n",
    "d1.setdefault('g', 70) Set the default value if a key does not exist.\n",
    "d1['b'] = 100 Modify the values of the existing key.\n",
    "d1.pop('b') Remove the key b from the dictionary.\n",
    "d1.popitem() Remove any random item from a dictionary.\n",
    "d1.clear() Removes all items from the dictionary.\n",
    "'key' in d1.keys() Check if a key exists in a dictionary.\n",
    "d1.update(d2) Add all items of dictionary d2 into d1.\n",
    "d3= {**d1, **d2} Join two dictionaries.\n",
    "d2 = d1.copy() Copy dictionary d1 into d2.\n",
    "max(d1) Returns the key with the maximum value in the \n",
    "dictionary d1\n",
    "min(d1) Returns the key with the minimum value in the \n",
    "dictionary d1\"\"\"\n",
    "\n",
    "# Initial dictionaries\n",
    "d1 = {'a': 10, 'b': 20, 'c': 30}\n",
    "d2 = {'d': 40, 'e': 50, 'f': 60}\n",
    "\n",
    "# Operation: Create a dictionary using a dict() constructor\n",
    "d3 = dict({'a': 10, 'b': 20})\n",
    "print(f\"Create a dictionary using dict() constructor: {d3}\")\n",
    "\n",
    "# Operation: Create an empty dictionary\n",
    "d2 = {}\n",
    "print(f\"Create an empty dictionary: {d2}\")\n",
    "\n",
    "# Reset d2 for further operations\n",
    "d2 = {'d': 40, 'e': 50, 'f': 60}\n",
    "\n",
    "# Operation: Retrieve value using the key 'a'\n",
    "print(f\"Retrieve value using the key 'a': {d1.get('a')}\")\n",
    "\n",
    "# Operation: Returns a list of keys present in the dictionary\n",
    "print(f\"List of keys in d1: {list(d1.keys())}\")\n",
    "\n",
    "# Operation: Returns a list with all the values in the dictionary\n",
    "print(f\"List of values in d1: {list(d1.values())}\")\n",
    "\n",
    "# Operation: Returns a list of all the items in the dictionary with each key-value pair inside a tuple\n",
    "print(f\"List of items in d1: {list(d1.items())}\")\n",
    "\n",
    "# Operation: Returns number of items in a dictionary\n",
    "print(f\"Number of items in d1: {len(d1)}\")\n",
    "\n",
    "# Operation: Update dictionary by adding a new key\n",
    "d1['d'] = 40\n",
    "print(f\"Update dictionary by adding a new key: {d1}\")\n",
    "\n",
    "# Operation: Add multiple keys to the dictionary\n",
    "d1.update({'e': 50, 'f': 60})\n",
    "print(f\"Add multiple keys to the dictionary: {d1}\")\n",
    "\n",
    "# Operation: Set the default value if a key does not exist\n",
    "d1.setdefault('g', 70)\n",
    "print(f\"Set the default value if a key does not exist: {d1}\")\n",
    "\n",
    "# Operation: Modify the values of the existing key\n",
    "d1['b'] = 100\n",
    "print(f\"Modify the value of key 'b': {d1}\")\n",
    "\n",
    "# Operation: Remove the key 'b' from the dictionary\n",
    "d1.pop('b')\n",
    "print(f\"Remove the key 'b' from the dictionary: {d1}\")\n",
    "\n",
    "# Operation: Remove any random item from a dictionary\n",
    "d1.popitem()\n",
    "print(f\"Remove any random item from the dictionary: {d1}\")\n",
    "\n",
    "# Operation: Removes all items from the dictionary\n",
    "d1.clear()\n",
    "print(f\"Removes all items from the dictionary: {d1}\")\n",
    "\n",
    "# Reset d1 for further operations\n",
    "d1 = {'a': 10, 'b': 20, 'c': 30}\n",
    "\n",
    "# Operation: Check if a key exists in a dictionary\n",
    "print(f\"Check if key 'a' exists in d1: {'a' in d1.keys()}\")\n",
    "\n",
    "# Operation: Add all items of dictionary d2 into d1\n",
    "d1.update(d2)\n",
    "print(f\"Add all items of dictionary d2 into d1: {d1}\")\n",
    "\n",
    "# Reset d1 and d2 for further operations\n",
    "d1 = {'a': 10, 'b': 20, 'c': 30}\n",
    "d2 = {'d': 40, 'e': 50, 'f': 60}\n",
    "\n",
    "# Operation: Join two dictionaries\n",
    "d3 = {**d1, **d2}\n",
    "print(f\"Join two dictionaries: {d3}\")\n",
    "\n",
    "# Operation: Copy dictionary d1 into d2\n",
    "d2 = d1.copy()\n",
    "print(f\"Copy dictionary d1 into d2: {d2}\")\n",
    "\n",
    "# Reset d1 for further operations\n",
    "d1 = {'a': 10, 'b': 20, 'c': 30}\n",
    "\n",
    "# Operation: Returns the key with the maximum value in the dictionary d1\n",
    "print(f\"Key with the maximum value in d1: {max(d1)}\")\n",
    "\n",
    "# Operation: Returns the key with the minimum value in the dictionary d1\n",
    "print(f\"Key with the minimum value in d1: {min(d1)}\")\n"
   ]
  }
 ],
 "metadata": {
  "kernelspec": {
   "display_name": "Python 3",
   "language": "python",
   "name": "python3"
  },
  "language_info": {
   "codemirror_mode": {
    "name": "ipython",
    "version": 3
   },
   "file_extension": ".py",
   "mimetype": "text/x-python",
   "name": "python",
   "nbconvert_exporter": "python",
   "pygments_lexer": "ipython3",
   "version": "3.11.4"
  }
 },
 "nbformat": 4,
 "nbformat_minor": 2
}
