{
 "cells": [
  {
   "cell_type": "code",
   "execution_count": 50,
   "metadata": {},
   "outputs": [
    {
     "data": {
      "text/plain": [
       "'white'"
      ]
     },
     "execution_count": 50,
     "metadata": {},
     "output_type": "execute_result"
    }
   ],
   "source": [
    "c2.color"
   ]
  },
  {
   "cell_type": "code",
   "execution_count": 3,
   "metadata": {},
   "outputs": [
    {
     "name": "stdout",
     "output_type": "stream",
     "text": [
      "Defender\n"
     ]
    }
   ],
   "source": [
    "class car:\n",
    "    def __init__(self, name):\n",
    "        self.name = name\n",
    "\n",
    "    def update_name(self, new_name):\n",
    "        self.name = new_name\n",
    "\n",
    "# Create an instance of the car class\n",
    "c1 = car('Nano')\n",
    "\n",
    "# Update the name\n",
    "c1.update_name('Defender')\n",
    "print(c1.name)  # This should print 'Defender'"
   ]
  },
  {
   "cell_type": "code",
   "execution_count": 1,
   "metadata": {},
   "outputs": [
    {
     "name": "stdout",
     "output_type": "stream",
     "text": [
      "Car Name: TATA, Model: YT, Year: 2023\n"
     ]
    }
   ],
   "source": [
    "class car:\n",
    "    def __init__(self, name, model, year):\n",
    "        self.name = name\n",
    "        self.model = model\n",
    "        self.year = year\n",
    "\n",
    "    def update_name(self, new_name):\n",
    "        self.name = new_name\n",
    "\n",
    "    def get_details(self):\n",
    "        return f\"Car Name: {self.name}, Model: {self.model}, Year: {self.year}\"\n",
    "\n",
    "    def delete_name(self):\n",
    "        self.name = None  # or you can use `del self.name` to completely remove the attribute\n",
    "\n",
    "# Create an instance of the car class\n",
    "c2 = car('Nexon', 'GT', 2021)\n",
    "c1 = car('TATA','YT',2023)\n",
    "\n",
    "# Get the details\n",
    "details = c1.get_details()\n",
    "print(details)  # This should print 'Car Name: Mustang, Model: GT, Year: 2021'"
   ]
  },
  {
   "cell_type": "code",
   "execution_count": 72,
   "metadata": {},
   "outputs": [
    {
     "data": {
      "text/plain": [
       "'YT'"
      ]
     },
     "execution_count": 72,
     "metadata": {},
     "output_type": "execute_result"
    }
   ],
   "source": [
    "c1.model"
   ]
  },
  {
   "cell_type": "code",
   "execution_count": 2,
   "metadata": {},
   "outputs": [
    {
     "name": "stdout",
     "output_type": "stream",
     "text": [
      "Punch\n"
     ]
    }
   ],
   "source": [
    "c2.update_name('Punch')\n",
    "print(c2.name)"
   ]
  },
  {
   "cell_type": "code",
   "execution_count": 77,
   "metadata": {},
   "outputs": [
    {
     "name": "stdout",
     "output_type": "stream",
     "text": [
      "None\n"
     ]
    }
   ],
   "source": [
    "c2.delete_name()\n",
    "print(c2.name)"
   ]
  }
 ],
 "metadata": {
  "kernelspec": {
   "display_name": "Python 3",
   "language": "python",
   "name": "python3"
  },
  "language_info": {
   "codemirror_mode": {
    "name": "ipython",
    "version": 3
   },
   "file_extension": ".py",
   "mimetype": "text/x-python",
   "name": "python",
   "nbconvert_exporter": "python",
   "pygments_lexer": "ipython3",
   "version": "3.11.4"
  }
 },
 "nbformat": 4,
 "nbformat_minor": 2
}
